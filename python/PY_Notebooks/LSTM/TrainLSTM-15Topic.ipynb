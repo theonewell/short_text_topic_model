{
 "cells": [
  {
   "cell_type": "markdown",
   "id": "5d521ea1",
   "metadata": {},
   "source": [
    "<h1>Training and Testing Model</h1>"
   ]
  },
  {
   "cell_type": "code",
   "execution_count": 1,
   "id": "d51623d9",
   "metadata": {},
   "outputs": [
    {
     "name": "stderr",
     "output_type": "stream",
     "text": [
      "/Users/theo/opt/anaconda3/envs/fp/lib/python3.6/site-packages/tensorflow/python/framework/dtypes.py:523: FutureWarning: Passing (type, 1) or '1type' as a synonym of type is deprecated; in a future version of numpy, it will be understood as (type, (1,)) / '(1,)type'.\n",
      "  _np_qint8 = np.dtype([(\"qint8\", np.int8, 1)])\n",
      "/Users/theo/opt/anaconda3/envs/fp/lib/python3.6/site-packages/tensorflow/python/framework/dtypes.py:524: FutureWarning: Passing (type, 1) or '1type' as a synonym of type is deprecated; in a future version of numpy, it will be understood as (type, (1,)) / '(1,)type'.\n",
      "  _np_quint8 = np.dtype([(\"quint8\", np.uint8, 1)])\n",
      "/Users/theo/opt/anaconda3/envs/fp/lib/python3.6/site-packages/tensorflow/python/framework/dtypes.py:525: FutureWarning: Passing (type, 1) or '1type' as a synonym of type is deprecated; in a future version of numpy, it will be understood as (type, (1,)) / '(1,)type'.\n",
      "  _np_qint16 = np.dtype([(\"qint16\", np.int16, 1)])\n",
      "/Users/theo/opt/anaconda3/envs/fp/lib/python3.6/site-packages/tensorflow/python/framework/dtypes.py:526: FutureWarning: Passing (type, 1) or '1type' as a synonym of type is deprecated; in a future version of numpy, it will be understood as (type, (1,)) / '(1,)type'.\n",
      "  _np_quint16 = np.dtype([(\"quint16\", np.uint16, 1)])\n",
      "/Users/theo/opt/anaconda3/envs/fp/lib/python3.6/site-packages/tensorflow/python/framework/dtypes.py:527: FutureWarning: Passing (type, 1) or '1type' as a synonym of type is deprecated; in a future version of numpy, it will be understood as (type, (1,)) / '(1,)type'.\n",
      "  _np_qint32 = np.dtype([(\"qint32\", np.int32, 1)])\n",
      "/Users/theo/opt/anaconda3/envs/fp/lib/python3.6/site-packages/tensorflow/python/framework/dtypes.py:532: FutureWarning: Passing (type, 1) or '1type' as a synonym of type is deprecated; in a future version of numpy, it will be understood as (type, (1,)) / '(1,)type'.\n",
      "  np_resource = np.dtype([(\"resource\", np.ubyte, 1)])\n"
     ]
    }
   ],
   "source": [
    "import tensorflow as tf\n",
    "from tensorflow import keras\n",
    "from tensorflow.keras.preprocessing.sequence import pad_sequences\n",
    "from tensorflow.keras.layers import Embedding, LSTM, Dense, Bidirectional\n",
    "from tensorflow.keras.preprocessing.text import Tokenizer\n",
    "from tensorflow.keras.models import Sequential\n",
    "from tensorflow.keras.optimizers import Adam\n",
    "\n",
    "from sklearn.model_selection import train_test_split\n",
    "\n",
    "import numpy as np\n",
    "import pandas as pd\n",
    "import csv"
   ]
  },
  {
   "cell_type": "code",
   "execution_count": 2,
   "id": "175c445d",
   "metadata": {},
   "outputs": [],
   "source": [
    "tokenizer = Tokenizer(filters='!\"#$%&()*+,./:;<=>?@[\\\\]^_`{|}~\\t\\n')\n",
    "# Import the datatext file containing pre-proccessed texts.\n",
    "textFile = pd.read_csv('sens12.csv', index_col=False)\n",
    "corpus = textFile['Text']\n",
    "# Split 80:20 train:test data, randomstate is used for repeatability while testing\n",
    "train_data, test_data = train_test_split(corpus, test_size=0.2, random_state=10)\n",
    "# # Create tokenizer/word index\n",
    "tokenizer.fit_on_texts(train_data)\n",
    "total_words = len(tokenizer.word_index) + 1 "
   ]
  },
  {
   "cell_type": "code",
   "execution_count": 3,
   "id": "0dc12c93",
   "metadata": {},
   "outputs": [],
   "source": [
    "input_sequences = []\n",
    "for line in train_data:\n",
    "# Converts each line to a token list\n",
    "    token_list = tokenizer.texts_to_sequences([line])[0]\n",
    "    if(len(token_list)>0):\n",
    "# remove the lable(key) and save it for use later\n",
    "        key = token_list[-1]\n",
    "        token_list.pop()\n",
    "# Then will iterate over this list of tokens and create a number of n-grams sequences, \n",
    "# it will add the label(key) to the end of the tokens again meaning the algorithm will always predict the label\n",
    "        for i in range(1, len(token_list)):\n",
    "            n_gram_sequence = token_list[:i+1]\n",
    "            n_gram_sequence.append(key)\n",
    "            input_sequences.append(n_gram_sequence)\n",
    "# Calculate longest token array\n",
    "max_sequence_len = max([len(x) for x in input_sequences])\n",
    "# Pad all lines with leading 0s so all arrays are the same length\n",
    "input_sequences = np.array(pad_sequences(input_sequences, maxlen=max_sequence_len, padding='pre'))"
   ]
  },
  {
   "cell_type": "code",
   "execution_count": 4,
   "id": "9620ff7d",
   "metadata": {},
   "outputs": [],
   "source": [
    "textTokens, labels = input_sequences[:,:-1],input_sequences[:,-1]\n",
    "# creates a one hot encoded version of the topic label within the word list\n",
    "oneHotLabel = tf.keras.utils.to_categorical(labels, num_classes=total_words)"
   ]
  },
  {
   "cell_type": "markdown",
   "id": "624449c5",
   "metadata": {},
   "source": [
    "Model build - described in report."
   ]
  },
  {
   "cell_type": "code",
   "execution_count": 5,
   "id": "5dce7d59",
   "metadata": {},
   "outputs": [
    {
     "name": "stderr",
     "output_type": "stream",
     "text": [
      "/Users/theo/opt/anaconda3/envs/fp/lib/python3.6/site-packages/tensorflow/python/ops/gradients_impl.py:108: UserWarning: Converting sparse IndexedSlices to a dense Tensor of unknown shape. This may consume a large amount of memory.\n",
      "  \"Converting sparse IndexedSlices to a dense Tensor of unknown shape. \"\n"
     ]
    },
    {
     "name": "stdout",
     "output_type": "stream",
     "text": [
      "Epoch 1/30\n",
      "47966/47966 [==============================] - 415s 9ms/step - loss: 2.9269 - acc: 0.0773\n",
      "Epoch 2/30\n",
      "47966/47966 [==============================] - 425s 9ms/step - loss: 2.9183 - acc: 0.0740\n",
      "Epoch 3/30\n",
      "47966/47966 [==============================] - 433s 9ms/step - loss: 2.9017 - acc: 0.0747\n",
      "Epoch 4/30\n",
      "47966/47966 [==============================] - 441s 9ms/step - loss: 2.9038 - acc: 0.0780\n",
      "Epoch 5/30\n",
      "47966/47966 [==============================] - 445s 9ms/step - loss: 2.9080 - acc: 0.0778\n",
      "Epoch 6/30\n",
      "47966/47966 [==============================] - 456s 10ms/step - loss: 2.9069 - acc: 0.0790\n",
      "Epoch 7/30\n",
      "47966/47966 [==============================] - 432s 9ms/step - loss: 2.9010 - acc: 0.0789\n",
      "Epoch 8/30\n",
      "47966/47966 [==============================] - 437s 9ms/step - loss: 2.8864 - acc: 0.0781\n",
      "Epoch 9/30\n",
      "47966/47966 [==============================] - 435s 9ms/step - loss: 2.8980 - acc: 0.0784\n",
      "Epoch 10/30\n",
      "47966/47966 [==============================] - 438s 9ms/step - loss: 2.8947 - acc: 0.0748\n",
      "Epoch 11/30\n",
      "47966/47966 [==============================] - 422s 9ms/step - loss: 2.8830 - acc: 0.0772\n",
      "Epoch 12/30\n",
      "47966/47966 [==============================] - 415s 9ms/step - loss: 2.8838 - acc: 0.0791\n",
      "Epoch 13/30\n",
      "47966/47966 [==============================] - 412s 9ms/step - loss: 2.3510 - acc: 0.2346\n",
      "Epoch 14/30\n",
      "47966/47966 [==============================] - 408s 8ms/step - loss: 1.5355 - acc: 0.5182\n",
      "Epoch 15/30\n",
      "47966/47966 [==============================] - 408s 9ms/step - loss: 1.2599 - acc: 0.6110\n",
      "Epoch 16/30\n",
      "47966/47966 [==============================] - 412s 9ms/step - loss: 1.0452 - acc: 0.6796\n",
      "Epoch 17/30\n",
      "47966/47966 [==============================] - 411s 9ms/step - loss: 0.9164 - acc: 0.7189\n",
      "Epoch 18/30\n",
      "47966/47966 [==============================] - 410s 9ms/step - loss: 0.8195 - acc: 0.7487\n",
      "Epoch 19/30\n",
      "47966/47966 [==============================] - 416s 9ms/step - loss: 0.7381 - acc: 0.7711\n",
      "Epoch 20/30\n",
      "47966/47966 [==============================] - 413s 9ms/step - loss: 0.6861 - acc: 0.7899\n",
      "Epoch 21/30\n",
      "47966/47966 [==============================] - 412s 9ms/step - loss: 0.6499 - acc: 0.7989\n",
      "Epoch 22/30\n",
      "47966/47966 [==============================] - 410s 9ms/step - loss: 0.6158 - acc: 0.8099\n",
      "Epoch 23/30\n",
      "47966/47966 [==============================] - 416s 9ms/step - loss: 0.5807 - acc: 0.8186\n",
      "Epoch 24/30\n",
      "47966/47966 [==============================] - 419s 9ms/step - loss: 0.5630 - acc: 0.8255\n",
      "Epoch 25/30\n",
      "47966/47966 [==============================] - 421s 9ms/step - loss: 0.5415 - acc: 0.8314\n",
      "Epoch 26/30\n",
      "47966/47966 [==============================] - 423s 9ms/step - loss: 0.5238 - acc: 0.8350\n",
      "Epoch 27/30\n",
      "47966/47966 [==============================] - 413s 9ms/step - loss: 0.5174 - acc: 0.8376\n",
      "Epoch 28/30\n",
      "47966/47966 [==============================] - 415s 9ms/step - loss: 0.5103 - acc: 0.8405\n",
      "Epoch 29/30\n",
      "47966/47966 [==============================] - 417s 9ms/step - loss: 0.4945 - acc: 0.8462\n",
      "Epoch 30/30\n",
      "47966/47966 [==============================] - 413s 9ms/step - loss: 0.4787 - acc: 0.8509\n"
     ]
    }
   ],
   "source": [
    "model = Sequential()\n",
    "model.add(Embedding(total_words, 100, input_length=max_sequence_len-1))\n",
    "model.add(Bidirectional(LSTM(150)))\n",
    "model.add(Dense(total_words, activation='softmax'))\n",
    "adam = Adam(lr=0.01)\n",
    "model.compile(loss='categorical_crossentropy', optimizer=adam, metrics=['accuracy'])\n",
    "history = model.fit(textTokens, oneHotLabel, epochs=30, verbose=1)"
   ]
  },
  {
   "cell_type": "code",
   "execution_count": 11,
   "id": "f0bd1128",
   "metadata": {},
   "outputs": [
    {
     "data": {
      "text/plain": [
       "[]"
      ]
     },
     "execution_count": 11,
     "metadata": {},
     "output_type": "execute_result"
    },
    {
     "data": {
      "image/png": "[encoded data removed]",
      "text/plain": [
       "<Figure size 432x288 with 1 Axes>"
      ]
     },
     "metadata": {
      "needs_background": "light"
     },
     "output_type": "display_data"
    }
   ],
   "source": [
    "import matplotlib\n",
    "model_loss = pd.DataFrame(history.history[\"loss\"])\n",
    "ax = model_loss.plot(title='Model Loss')\n",
    "ax.set_xlabel(\"Epochs\")\n",
    "ax.set_ylabel(\"Loss\")\n",
    "ax.plot()"
   ]
  },
  {
   "cell_type": "code",
   "execution_count": 7,
   "id": "83bec9e4",
   "metadata": {},
   "outputs": [
    {
     "data": {
      "text/plain": [
       "[]"
      ]
     },
     "execution_count": 7,
     "metadata": {},
     "output_type": "execute_result"
    },
    {
     "data": {
      "image/png": "[encoded data removed]",
      "text/plain": [
       "<Figure size 432x288 with 1 Axes>"
      ]
     },
     "metadata": {
      "needs_background": "light"
     },
     "output_type": "display_data"
    }
   ],
   "source": [
    "import matplotlib\n",
    "model_acc = pd.DataFrame(history.history[\"acc\"])\n",
    "ax = model_acc.plot(title='Model Accuracy')\n",
    "ax.set_xlabel(\"Epochs\")\n",
    "ax.set_ylabel(\"Acc\")\n",
    "ax.plot()"
   ]
  },
  {
   "cell_type": "markdown",
   "id": "b5cc8aef",
   "metadata": {},
   "source": [
    "<h3>Unseen dataset validation</h3>"
   ]
  },
  {
   "cell_type": "code",
   "execution_count": 14,
   "id": "497c6726",
   "metadata": {},
   "outputs": [
    {
     "name": "stdout",
     "output_type": "stream",
     "text": [
      "Acc: 67.10000000000001\n"
     ]
    }
   ],
   "source": [
    "test_data\n",
    "counter = 0\n",
    "corpusLen = len(test_data)\n",
    "for line in test_data:\n",
    "    next_words = 1\n",
    "    label = line.split()[-1]\n",
    "    line = line.rsplit(' ', 1)[0]\n",
    "    for _ in range(next_words):\n",
    "        token_list = tokenizer.texts_to_sequences([line])[0]\n",
    "        token_list = pad_sequences([token_list], maxlen=max_sequence_len-1, padding='pre')\n",
    "        predicted = model.predict_classes(token_list)\n",
    "        output_word = \"\"\n",
    "        for word, index in tokenizer.word_index.items():\n",
    "            if index == predicted:\n",
    "                output_word = word\n",
    "                break\n",
    "#  print(output_word + ' ' + label)\n",
    "    if(output_word == label):\n",
    "        counter+=1\n",
    "#     line += \" \" + output_word\n",
    "#     print(line)\n",
    "acc = (counter/corpusLen)*100\n",
    "print('Acc: ' + str(acc))"
   ]
  },
  {
   "cell_type": "code",
   "execution_count": 9,
   "id": "dfe9c9c1",
   "metadata": {},
   "outputs": [
    {
     "name": "stdout",
     "output_type": "stream",
     "text": [
      "_________________________________________________________________\n",
      "Layer (type)                 Output Shape              Param #   \n",
      "=================================================================\n",
      "embedding (Embedding)        (None, 7, 100)            1075100   \n",
      "_________________________________________________________________\n",
      "bidirectional (Bidirectional (None, 300)               301200    \n",
      "_________________________________________________________________\n",
      "dense (Dense)                (None, 10751)             3236051   \n",
      "=================================================================\n",
      "Total params: 4,612,351\n",
      "Trainable params: 4,612,351\n",
      "Non-trainable params: 0\n",
      "_________________________________________________________________\n",
      "None\n"
     ]
    }
   ],
   "source": [
    "print (model.summary())"
   ]
  },
  {
   "cell_type": "code",
   "execution_count": 10,
   "id": "349aa570",
   "metadata": {},
   "outputs": [],
   "source": [
    "model.save('LSTM-15.h5')"
   ]
  }
 ],
 "metadata": {
  "kernelspec": {
   "display_name": "Python 3",
   "language": "python",
   "name": "python3"
  },
  "language_info": {
   "codemirror_mode": {
    "name": "ipython",
    "version": 3
   },
   "file_extension": ".py",
   "mimetype": "text/x-python",
   "name": "python",
   "nbconvert_exporter": "python",
   "pygments_lexer": "ipython3",
   "version": "3.6.13"
  }
 },
 "nbformat": 4,
 "nbformat_minor": 5
}
